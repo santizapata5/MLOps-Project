{
 "cells": [
  {
   "cell_type": "code",
   "execution_count": 2,
   "metadata": {},
   "outputs": [],
   "source": [
    "import numpy as np\n",
    "import pandas as pd"
   ]
  },
  {
   "cell_type": "code",
   "execution_count": 3,
   "metadata": {},
   "outputs": [],
   "source": [
    "# load the ratings CSV files\n",
    "df1_ratings = pd.read_csv('C:/Users/Santiago/Desktop/MLOpsReviews/ratings/1.csv')\n",
    "df2_ratings = pd.read_csv('C:/Users/Santiago/Desktop/MLOpsReviews/ratings/2.csv')\n",
    "df3_ratings = pd.read_csv('C:/Users/Santiago/Desktop/MLOpsReviews/ratings/3.csv')\n",
    "df4_ratings = pd.read_csv('C:/Users/Santiago/Desktop/MLOpsReviews/ratings/4.csv')\n",
    "df5_ratings = pd.read_csv('C:/Users/Santiago/Desktop/MLOpsReviews/ratings/5.csv')\n",
    "df6_ratings = pd.read_csv('C:/Users/Santiago/Desktop/MLOpsReviews/ratings/6.csv')\n",
    "df7_ratings = pd.read_csv('C:/Users/Santiago/Desktop/MLOpsReviews/ratings/7.csv')\n",
    "df8_ratings = pd.read_csv('C:/Users/Santiago/Desktop/MLOpsReviews/ratings/8.csv')"
   ]
  },
  {
   "cell_type": "code",
   "execution_count": 4,
   "metadata": {},
   "outputs": [],
   "source": [
    "# concatenate the ratings dataframes into a single dataframe\n",
    "df = pd.concat([df1_ratings, df2_ratings, df3_ratings, df4_ratings, \n",
    "                df5_ratings, df6_ratings, df7_ratings, df8_ratings])"
   ]
  },
  {
   "cell_type": "code",
   "execution_count": 5,
   "metadata": {},
   "outputs": [],
   "source": [
    "# load the remaining CSV files\n",
    "df_amazon = pd.read_csv('C:/Users/Santiago/Desktop/MLOpsReviews/amazon_prime_titles.csv')\n",
    "df_disney = pd.read_csv('C:/Users/Santiago/Desktop/MLOpsReviews/disney_plus_titles.csv')\n",
    "df_hulu = pd.read_csv('C:/Users/Santiago/Desktop/MLOpsReviews/hulu_titles.csv')\n",
    "df_netflix = pd.read_csv('C:/Users/Santiago/Desktop/MLOpsReviews/netflix_titles.csv')"
   ]
  },
  {
   "cell_type": "code",
   "execution_count": 6,
   "metadata": {},
   "outputs": [],
   "source": [
    "pd.set_option('display.float_format', '{:.2f}'.format)"
   ]
  },
  {
   "cell_type": "code",
   "execution_count": 7,
   "metadata": {},
   "outputs": [
    {
     "data": {
      "text/plain": [
       "userId       0\n",
       "rating       0\n",
       "timestamp    0\n",
       "movieId      0\n",
       "dtype: int64"
      ]
     },
     "execution_count": 7,
     "metadata": {},
     "output_type": "execute_result"
    }
   ],
   "source": [
    "df.isnull().sum()"
   ]
  },
  {
   "cell_type": "code",
   "execution_count": 8,
   "metadata": {},
   "outputs": [
    {
     "data": {
      "text/html": [
       "<div>\n",
       "<style scoped>\n",
       "    .dataframe tbody tr th:only-of-type {\n",
       "        vertical-align: middle;\n",
       "    }\n",
       "\n",
       "    .dataframe tbody tr th {\n",
       "        vertical-align: top;\n",
       "    }\n",
       "\n",
       "    .dataframe thead th {\n",
       "        text-align: right;\n",
       "    }\n",
       "</style>\n",
       "<table border=\"1\" class=\"dataframe\">\n",
       "  <thead>\n",
       "    <tr style=\"text-align: right;\">\n",
       "      <th></th>\n",
       "      <th>userId</th>\n",
       "      <th>rating</th>\n",
       "      <th>timestamp</th>\n",
       "      <th>movieId</th>\n",
       "    </tr>\n",
       "  </thead>\n",
       "  <tbody>\n",
       "    <tr>\n",
       "      <th>0</th>\n",
       "      <td>1</td>\n",
       "      <td>1.00</td>\n",
       "      <td>1425941529</td>\n",
       "      <td>as680</td>\n",
       "    </tr>\n",
       "    <tr>\n",
       "      <th>1</th>\n",
       "      <td>1</td>\n",
       "      <td>4.50</td>\n",
       "      <td>1425942435</td>\n",
       "      <td>ns2186</td>\n",
       "    </tr>\n",
       "    <tr>\n",
       "      <th>2</th>\n",
       "      <td>1</td>\n",
       "      <td>5.00</td>\n",
       "      <td>1425941523</td>\n",
       "      <td>hs2381</td>\n",
       "    </tr>\n",
       "    <tr>\n",
       "      <th>3</th>\n",
       "      <td>1</td>\n",
       "      <td>5.00</td>\n",
       "      <td>1425941546</td>\n",
       "      <td>ns3663</td>\n",
       "    </tr>\n",
       "    <tr>\n",
       "      <th>4</th>\n",
       "      <td>1</td>\n",
       "      <td>5.00</td>\n",
       "      <td>1425941556</td>\n",
       "      <td>as9500</td>\n",
       "    </tr>\n",
       "  </tbody>\n",
       "</table>\n",
       "</div>"
      ],
      "text/plain": [
       "   userId  rating   timestamp movieId\n",
       "0       1    1.00  1425941529   as680\n",
       "1       1    4.50  1425942435  ns2186\n",
       "2       1    5.00  1425941523  hs2381\n",
       "3       1    5.00  1425941546  ns3663\n",
       "4       1    5.00  1425941556  as9500"
      ]
     },
     "execution_count": 8,
     "metadata": {},
     "output_type": "execute_result"
    }
   ],
   "source": [
    "df.head()"
   ]
  },
  {
   "cell_type": "code",
   "execution_count": 9,
   "metadata": {},
   "outputs": [
    {
     "name": "stdout",
     "output_type": "stream",
     "text": [
      "<class 'pandas.core.frame.DataFrame'>\n",
      "Index: 11024289 entries, 0 to 1499999\n",
      "Data columns (total 4 columns):\n",
      " #   Column     Dtype  \n",
      "---  ------     -----  \n",
      " 0   userId     int64  \n",
      " 1   rating     float64\n",
      " 2   timestamp  int64  \n",
      " 3   movieId    object \n",
      "dtypes: float64(1), int64(2), object(1)\n",
      "memory usage: 420.5+ MB\n"
     ]
    }
   ],
   "source": [
    "df.info()"
   ]
  },
  {
   "cell_type": "code",
   "execution_count": 10,
   "metadata": {},
   "outputs": [
    {
     "data": {
      "text/plain": [
       "userId         int64\n",
       "rating       float64\n",
       "timestamp      int64\n",
       "movieId       object\n",
       "dtype: object"
      ]
     },
     "execution_count": 10,
     "metadata": {},
     "output_type": "execute_result"
    }
   ],
   "source": [
    "df.dtypes"
   ]
  },
  {
   "cell_type": "code",
   "execution_count": 11,
   "metadata": {},
   "outputs": [
    {
     "data": {
      "text/html": [
       "<div>\n",
       "<style scoped>\n",
       "    .dataframe tbody tr th:only-of-type {\n",
       "        vertical-align: middle;\n",
       "    }\n",
       "\n",
       "    .dataframe tbody tr th {\n",
       "        vertical-align: top;\n",
       "    }\n",
       "\n",
       "    .dataframe thead th {\n",
       "        text-align: right;\n",
       "    }\n",
       "</style>\n",
       "<table border=\"1\" class=\"dataframe\">\n",
       "  <thead>\n",
       "    <tr style=\"text-align: right;\">\n",
       "      <th></th>\n",
       "      <th>userId</th>\n",
       "      <th>rating</th>\n",
       "      <th>timestamp</th>\n",
       "    </tr>\n",
       "  </thead>\n",
       "  <tbody>\n",
       "    <tr>\n",
       "      <th>count</th>\n",
       "      <td>11024289.00</td>\n",
       "      <td>11024289.00</td>\n",
       "      <td>11024289.00</td>\n",
       "    </tr>\n",
       "    <tr>\n",
       "      <th>mean</th>\n",
       "      <td>89972.51</td>\n",
       "      <td>3.53</td>\n",
       "      <td>1172541513.59</td>\n",
       "    </tr>\n",
       "    <tr>\n",
       "      <th>std</th>\n",
       "      <td>86866.01</td>\n",
       "      <td>1.06</td>\n",
       "      <td>205677385.96</td>\n",
       "    </tr>\n",
       "    <tr>\n",
       "      <th>min</th>\n",
       "      <td>1.00</td>\n",
       "      <td>0.50</td>\n",
       "      <td>789652004.00</td>\n",
       "    </tr>\n",
       "    <tr>\n",
       "      <th>25%</th>\n",
       "      <td>28558.00</td>\n",
       "      <td>3.00</td>\n",
       "      <td>990159330.00</td>\n",
       "    </tr>\n",
       "    <tr>\n",
       "      <th>50%</th>\n",
       "      <td>56843.00</td>\n",
       "      <td>3.50</td>\n",
       "      <td>1153610452.00</td>\n",
       "    </tr>\n",
       "    <tr>\n",
       "      <th>75%</th>\n",
       "      <td>116867.00</td>\n",
       "      <td>4.00</td>\n",
       "      <td>1360469934.00</td>\n",
       "    </tr>\n",
       "    <tr>\n",
       "      <th>max</th>\n",
       "      <td>270896.00</td>\n",
       "      <td>5.00</td>\n",
       "      <td>1501826675.00</td>\n",
       "    </tr>\n",
       "  </tbody>\n",
       "</table>\n",
       "</div>"
      ],
      "text/plain": [
       "           userId      rating     timestamp\n",
       "count 11024289.00 11024289.00   11024289.00\n",
       "mean     89972.51        3.53 1172541513.59\n",
       "std      86866.01        1.06  205677385.96\n",
       "min          1.00        0.50  789652004.00\n",
       "25%      28558.00        3.00  990159330.00\n",
       "50%      56843.00        3.50 1153610452.00\n",
       "75%     116867.00        4.00 1360469934.00\n",
       "max     270896.00        5.00 1501826675.00"
      ]
     },
     "execution_count": 11,
     "metadata": {},
     "output_type": "execute_result"
    }
   ],
   "source": [
    "df.describe()"
   ]
  },
  {
   "cell_type": "code",
   "execution_count": 12,
   "metadata": {},
   "outputs": [],
   "source": [
    "df.duplicated().sum()\n",
    "df.drop_duplicates(inplace=True)"
   ]
  },
  {
   "cell_type": "code",
   "execution_count": 13,
   "metadata": {},
   "outputs": [
    {
     "data": {
      "text/plain": [
       "array([0.5, 1. , 1.5, 2. , 2.5, 3. , 3.5, 4. , 4.5, 5. ])"
      ]
     },
     "execution_count": 13,
     "metadata": {},
     "output_type": "execute_result"
    }
   ],
   "source": [
    "np.sort(df['rating'].unique())"
   ]
  },
  {
   "cell_type": "code",
   "execution_count": 14,
   "metadata": {},
   "outputs": [],
   "source": [
    "df = df.drop('timestamp', axis=1)"
   ]
  },
  {
   "cell_type": "code",
   "execution_count": 15,
   "metadata": {},
   "outputs": [
    {
     "data": {
      "text/plain": [
       "movieId\n",
       "as1      3.47\n",
       "as10     3.44\n",
       "as100    3.61\n",
       "as1000   3.56\n",
       "as1001   3.59\n",
       "         ... \n",
       "ns995    3.52\n",
       "ns996    3.63\n",
       "ns997    3.53\n",
       "ns998    3.58\n",
       "ns999    3.49\n",
       "Name: rating, Length: 22998, dtype: float64"
      ]
     },
     "execution_count": 15,
     "metadata": {},
     "output_type": "execute_result"
    }
   ],
   "source": [
    "df.groupby('movieId')['rating'].mean()"
   ]
  },
  {
   "attachments": {},
   "cell_type": "markdown",
   "metadata": {},
   "source": [
    "Second group of datasets"
   ]
  },
  {
   "cell_type": "code",
   "execution_count": 16,
   "metadata": {},
   "outputs": [],
   "source": [
    "# Add platform column to each DataFrame\n",
    "df_amazon['platform'] = 'amazon'\n",
    "df_disney['platform'] = 'disney'\n",
    "df_hulu['platform'] = 'hulu'\n",
    "df_netflix['platform'] = 'netflix'"
   ]
  },
  {
   "cell_type": "code",
   "execution_count": 17,
   "metadata": {},
   "outputs": [],
   "source": [
    "# Concatenate the DataFrames into a single DataFrame\n",
    "df_platforms = pd.concat([df_amazon, df_disney, df_hulu, df_netflix], ignore_index=True)"
   ]
  },
  {
   "cell_type": "code",
   "execution_count": 18,
   "metadata": {},
   "outputs": [
    {
     "data": {
      "text/plain": [
       "show_id             0\n",
       "type                0\n",
       "title               0\n",
       "director         8260\n",
       "cast             5321\n",
       "country         11499\n",
       "date_added       9554\n",
       "release_year        0\n",
       "rating            864\n",
       "duration          482\n",
       "listed_in           0\n",
       "description         4\n",
       "platform            0\n",
       "dtype: int64"
      ]
     },
     "execution_count": 18,
     "metadata": {},
     "output_type": "execute_result"
    }
   ],
   "source": [
    "df_platforms.isna().sum()"
   ]
  },
  {
   "cell_type": "code",
   "execution_count": 19,
   "metadata": {},
   "outputs": [],
   "source": [
    "df_platforms = df_platforms.drop(['date_added', 'release_year', 'description'], axis=1)"
   ]
  },
  {
   "cell_type": "code",
   "execution_count": 20,
   "metadata": {},
   "outputs": [],
   "source": [
    "df_platforms.insert(loc=0, column='id', value = df_platforms.apply(lambda x: x['platform'][0] + x['show_id'], axis=1))"
   ]
  },
  {
   "cell_type": "code",
   "execution_count": 21,
   "metadata": {},
   "outputs": [],
   "source": [
    "df_platforms = df_platforms.drop('show_id', axis=1)"
   ]
  },
  {
   "cell_type": "code",
   "execution_count": 22,
   "metadata": {},
   "outputs": [],
   "source": [
    "df_platforms.iloc[:] = df_platforms.iloc[:].applymap(lambda x: x.lower() if isinstance(x, str) else x)"
   ]
  },
  {
   "cell_type": "code",
   "execution_count": 23,
   "metadata": {},
   "outputs": [],
   "source": [
    "df_platforms[['duration_int', 'duration_type']] = df_platforms['duration'].str.split(expand=True)\n",
    "df_platforms['duration_int'] = df_platforms['duration_int'].fillna(0).astype(int)"
   ]
  },
  {
   "cell_type": "code",
   "execution_count": 24,
   "metadata": {},
   "outputs": [],
   "source": [
    "df_platforms = df_platforms.drop('duration', axis=1)"
   ]
  },
  {
   "cell_type": "code",
   "execution_count": 25,
   "metadata": {},
   "outputs": [
    {
     "data": {
      "text/html": [
       "<div>\n",
       "<style scoped>\n",
       "    .dataframe tbody tr th:only-of-type {\n",
       "        vertical-align: middle;\n",
       "    }\n",
       "\n",
       "    .dataframe tbody tr th {\n",
       "        vertical-align: top;\n",
       "    }\n",
       "\n",
       "    .dataframe thead th {\n",
       "        text-align: right;\n",
       "    }\n",
       "</style>\n",
       "<table border=\"1\" class=\"dataframe\">\n",
       "  <thead>\n",
       "    <tr style=\"text-align: right;\">\n",
       "      <th></th>\n",
       "      <th>duration_int</th>\n",
       "    </tr>\n",
       "  </thead>\n",
       "  <tbody>\n",
       "    <tr>\n",
       "      <th>count</th>\n",
       "      <td>22998.00</td>\n",
       "    </tr>\n",
       "    <tr>\n",
       "      <th>mean</th>\n",
       "      <td>65.71</td>\n",
       "    </tr>\n",
       "    <tr>\n",
       "      <th>std</th>\n",
       "      <td>51.76</td>\n",
       "    </tr>\n",
       "    <tr>\n",
       "      <th>min</th>\n",
       "      <td>0.00</td>\n",
       "    </tr>\n",
       "    <tr>\n",
       "      <th>25%</th>\n",
       "      <td>3.00</td>\n",
       "    </tr>\n",
       "    <tr>\n",
       "      <th>50%</th>\n",
       "      <td>83.00</td>\n",
       "    </tr>\n",
       "    <tr>\n",
       "      <th>75%</th>\n",
       "      <td>101.00</td>\n",
       "    </tr>\n",
       "    <tr>\n",
       "      <th>max</th>\n",
       "      <td>601.00</td>\n",
       "    </tr>\n",
       "  </tbody>\n",
       "</table>\n",
       "</div>"
      ],
      "text/plain": [
       "       duration_int\n",
       "count      22998.00\n",
       "mean          65.71\n",
       "std           51.76\n",
       "min            0.00\n",
       "25%            3.00\n",
       "50%           83.00\n",
       "75%          101.00\n",
       "max          601.00"
      ]
     },
     "execution_count": 25,
     "metadata": {},
     "output_type": "execute_result"
    }
   ],
   "source": [
    "df_platforms.describe()"
   ]
  },
  {
   "cell_type": "code",
   "execution_count": 26,
   "metadata": {},
   "outputs": [],
   "source": [
    "df = df.rename(columns={'movieId': 'id'})"
   ]
  },
  {
   "cell_type": "code",
   "execution_count": 27,
   "metadata": {},
   "outputs": [],
   "source": [
    "average = df.groupby('id')['rating'].mean()"
   ]
  },
  {
   "cell_type": "code",
   "execution_count": 28,
   "metadata": {},
   "outputs": [],
   "source": [
    "df = average.reset_index()[['id', 'rating']]"
   ]
  },
  {
   "cell_type": "code",
   "execution_count": 29,
   "metadata": {},
   "outputs": [],
   "source": [
    "df = df.rename(columns={'rating': 'score'})"
   ]
  },
  {
   "cell_type": "code",
   "execution_count": 30,
   "metadata": {},
   "outputs": [],
   "source": [
    "df = pd.merge(df_platforms, df, on='id')"
   ]
  },
  {
   "cell_type": "code",
   "execution_count": 33,
   "metadata": {},
   "outputs": [],
   "source": [
    "df['duration_type'] = df['duration_type'].replace('seasons', 'season')"
   ]
  },
  {
   "cell_type": "code",
   "execution_count": 38,
   "metadata": {},
   "outputs": [
    {
     "name": "stdout",
     "output_type": "stream",
     "text": [
      "id: 22998\n",
      "type: 2\n",
      "title: 22042\n",
      "director: 10094\n",
      "cast: 16744\n",
      "country: 886\n",
      "rating: 105\n",
      "listed_in: 1687\n",
      "platform: 4\n",
      "duration_int: 225\n",
      "duration_type: 2\n",
      "score: 11378\n"
     ]
    }
   ],
   "source": [
    "for col in df.columns:\n",
    "    print(f\"{col}: {df[col].nunique()}\")"
   ]
  },
  {
   "cell_type": "code",
   "execution_count": 52,
   "metadata": {},
   "outputs": [],
   "source": [
    "df = df.drop(['id', 'platform', 'duration_int', 'duration_type'], axis=1)"
   ]
  },
  {
   "cell_type": "code",
   "execution_count": null,
   "metadata": {},
   "outputs": [],
   "source": [
    "# Group the rows by title and apply a function to select the row with the least NaN values\n",
    "df = df.groupby('title', as_index=False).apply(lambda x: x.loc[x.isna().sum(axis=1).idxmin()])\n",
    "\n",
    "# Drop any remaining duplicate rows\n",
    "df.drop_duplicates(subset='title', inplace=True)"
   ]
  },
  {
   "cell_type": "code",
   "execution_count": 59,
   "metadata": {},
   "outputs": [
    {
     "data": {
      "text/html": [
       "<div>\n",
       "<style scoped>\n",
       "    .dataframe tbody tr th:only-of-type {\n",
       "        vertical-align: middle;\n",
       "    }\n",
       "\n",
       "    .dataframe tbody tr th {\n",
       "        vertical-align: top;\n",
       "    }\n",
       "\n",
       "    .dataframe thead th {\n",
       "        text-align: right;\n",
       "    }\n",
       "</style>\n",
       "<table border=\"1\" class=\"dataframe\">\n",
       "  <thead>\n",
       "    <tr style=\"text-align: right;\">\n",
       "      <th></th>\n",
       "      <th>type</th>\n",
       "      <th>title</th>\n",
       "      <th>director</th>\n",
       "      <th>cast</th>\n",
       "      <th>country</th>\n",
       "      <th>rating</th>\n",
       "      <th>listed_in</th>\n",
       "      <th>score</th>\n",
       "    </tr>\n",
       "  </thead>\n",
       "  <tbody>\n",
       "    <tr>\n",
       "      <th>0</th>\n",
       "      <td>movie</td>\n",
       "      <td>\"mixed up\"</td>\n",
       "      <td>nishi chawla</td>\n",
       "      <td>uday krishna, bethany rishell, lucy bond, sanj...</td>\n",
       "      <td>NaN</td>\n",
       "      <td>16+</td>\n",
       "      <td>drama, romance</td>\n",
       "      <td>3.47</td>\n",
       "    </tr>\n",
       "    <tr>\n",
       "      <th>1</th>\n",
       "      <td>tv show</td>\n",
       "      <td>\"the paramedic angel\"</td>\n",
       "      <td>NaN</td>\n",
       "      <td>nate reidnauer, nikki hrichak, nina randazzo, ...</td>\n",
       "      <td>NaN</td>\n",
       "      <td>all</td>\n",
       "      <td>drama</td>\n",
       "      <td>3.59</td>\n",
       "    </tr>\n",
       "    <tr>\n",
       "      <th>2</th>\n",
       "      <td>movie</td>\n",
       "      <td>#alive</td>\n",
       "      <td>cho il</td>\n",
       "      <td>yoo ah-in, park shin-hye</td>\n",
       "      <td>south korea</td>\n",
       "      <td>tv-ma</td>\n",
       "      <td>horror movies, international movies, thrillers</td>\n",
       "      <td>3.56</td>\n",
       "    </tr>\n",
       "    <tr>\n",
       "      <th>3</th>\n",
       "      <td>movie</td>\n",
       "      <td>#annefrank - parallel stories</td>\n",
       "      <td>sabina fedeli, anna migotto</td>\n",
       "      <td>helen mirren, gengher gatti</td>\n",
       "      <td>italy</td>\n",
       "      <td>tv-14</td>\n",
       "      <td>documentaries, international movies</td>\n",
       "      <td>3.56</td>\n",
       "    </tr>\n",
       "    <tr>\n",
       "      <th>4</th>\n",
       "      <td>tv show</td>\n",
       "      <td>#blackaf</td>\n",
       "      <td>NaN</td>\n",
       "      <td>kenya barris, rashida jones, iman benson, genn...</td>\n",
       "      <td>united states</td>\n",
       "      <td>tv-ma</td>\n",
       "      <td>tv comedies</td>\n",
       "      <td>3.59</td>\n",
       "    </tr>\n",
       "    <tr>\n",
       "      <th>...</th>\n",
       "      <td>...</td>\n",
       "      <td>...</td>\n",
       "      <td>...</td>\n",
       "      <td>...</td>\n",
       "      <td>...</td>\n",
       "      <td>...</td>\n",
       "      <td>...</td>\n",
       "      <td>...</td>\n",
       "    </tr>\n",
       "    <tr>\n",
       "      <th>22037</th>\n",
       "      <td>tv show</td>\n",
       "      <td>忍者ハットリくん</td>\n",
       "      <td>NaN</td>\n",
       "      <td>NaN</td>\n",
       "      <td>japan</td>\n",
       "      <td>tv-y7</td>\n",
       "      <td>anime series, kids' tv</td>\n",
       "      <td>3.63</td>\n",
       "    </tr>\n",
       "    <tr>\n",
       "      <th>22038</th>\n",
       "      <td>tv show</td>\n",
       "      <td>海的儿子</td>\n",
       "      <td>NaN</td>\n",
       "      <td>li nanxing, christopher lee, jesseca liu, appl...</td>\n",
       "      <td>NaN</td>\n",
       "      <td>tv-14</td>\n",
       "      <td>international tv shows, tv dramas</td>\n",
       "      <td>3.51</td>\n",
       "    </tr>\n",
       "    <tr>\n",
       "      <th>22039</th>\n",
       "      <td>tv show</td>\n",
       "      <td>마녀사냥</td>\n",
       "      <td>NaN</td>\n",
       "      <td>si-kyung sung, se-yoon yoo, dong-yup shin, ji-...</td>\n",
       "      <td>south korea</td>\n",
       "      <td>tv-ma</td>\n",
       "      <td>international tv shows, korean tv shows, stand...</td>\n",
       "      <td>3.60</td>\n",
       "    </tr>\n",
       "    <tr>\n",
       "      <th>22040</th>\n",
       "      <td>movie</td>\n",
       "      <td>반드시 잡는다</td>\n",
       "      <td>hong-seon kim</td>\n",
       "      <td>baek yoon-sik</td>\n",
       "      <td>south korea</td>\n",
       "      <td>tv-ma</td>\n",
       "      <td>dramas, international movies, thrillers</td>\n",
       "      <td>3.57</td>\n",
       "    </tr>\n",
       "    <tr>\n",
       "      <th>22041</th>\n",
       "      <td>movie</td>\n",
       "      <td>최강전사 미니특공대 : 영웅의 탄생</td>\n",
       "      <td>young jun lee</td>\n",
       "      <td>um sang-hyun, yang jeong-hwa, jeon tae-yeol, s...</td>\n",
       "      <td>NaN</td>\n",
       "      <td>tv-y7</td>\n",
       "      <td>children &amp; family movies</td>\n",
       "      <td>3.54</td>\n",
       "    </tr>\n",
       "  </tbody>\n",
       "</table>\n",
       "<p>22042 rows × 8 columns</p>\n",
       "</div>"
      ],
      "text/plain": [
       "          type                          title                     director   \n",
       "0        movie                     \"mixed up\"                 nishi chawla  \\\n",
       "1      tv show          \"the paramedic angel\"                          NaN   \n",
       "2        movie                         #alive                       cho il   \n",
       "3        movie  #annefrank - parallel stories  sabina fedeli, anna migotto   \n",
       "4      tv show                       #blackaf                          NaN   \n",
       "...        ...                            ...                          ...   \n",
       "22037  tv show                       忍者ハットリくん                          NaN   \n",
       "22038  tv show                           海的儿子                          NaN   \n",
       "22039  tv show                           마녀사냥                          NaN   \n",
       "22040    movie                        반드시 잡는다                hong-seon kim   \n",
       "22041    movie            최강전사 미니특공대 : 영웅의 탄생                young jun lee   \n",
       "\n",
       "                                                    cast        country   \n",
       "0      uday krishna, bethany rishell, lucy bond, sanj...            NaN  \\\n",
       "1      nate reidnauer, nikki hrichak, nina randazzo, ...            NaN   \n",
       "2                               yoo ah-in, park shin-hye    south korea   \n",
       "3                            helen mirren, gengher gatti          italy   \n",
       "4      kenya barris, rashida jones, iman benson, genn...  united states   \n",
       "...                                                  ...            ...   \n",
       "22037                                                NaN          japan   \n",
       "22038  li nanxing, christopher lee, jesseca liu, appl...            NaN   \n",
       "22039  si-kyung sung, se-yoon yoo, dong-yup shin, ji-...    south korea   \n",
       "22040                                      baek yoon-sik    south korea   \n",
       "22041  um sang-hyun, yang jeong-hwa, jeon tae-yeol, s...            NaN   \n",
       "\n",
       "      rating                                          listed_in  score  \n",
       "0        16+                                     drama, romance   3.47  \n",
       "1        all                                              drama   3.59  \n",
       "2      tv-ma     horror movies, international movies, thrillers   3.56  \n",
       "3      tv-14                documentaries, international movies   3.56  \n",
       "4      tv-ma                                        tv comedies   3.59  \n",
       "...      ...                                                ...    ...  \n",
       "22037  tv-y7                             anime series, kids' tv   3.63  \n",
       "22038  tv-14                  international tv shows, tv dramas   3.51  \n",
       "22039  tv-ma  international tv shows, korean tv shows, stand...   3.60  \n",
       "22040  tv-ma            dramas, international movies, thrillers   3.57  \n",
       "22041  tv-y7                           children & family movies   3.54  \n",
       "\n",
       "[22042 rows x 8 columns]"
      ]
     },
     "execution_count": 59,
     "metadata": {},
     "output_type": "execute_result"
    }
   ],
   "source": [
    "df"
   ]
  }
 ],
 "metadata": {
  "kernelspec": {
   "display_name": "venv",
   "language": "python",
   "name": "python3"
  },
  "language_info": {
   "codemirror_mode": {
    "name": "ipython",
    "version": 3
   },
   "file_extension": ".py",
   "mimetype": "text/x-python",
   "name": "python",
   "nbconvert_exporter": "python",
   "pygments_lexer": "ipython3",
   "version": "3.11.3"
  },
  "orig_nbformat": 4
 },
 "nbformat": 4,
 "nbformat_minor": 2
}
