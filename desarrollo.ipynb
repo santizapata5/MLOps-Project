{
 "cells": [
  {
   "attachments": {},
   "cell_type": "markdown",
   "metadata": {},
   "source": [
    "Import the libraries"
   ]
  },
  {
   "cell_type": "code",
   "execution_count": 1,
   "metadata": {},
   "outputs": [],
   "source": [
    "import pandas as pd\n",
    "import numpy as np\n",
    "from datetime import datetime\n",
    "from fastapi import FastAPI, Request, Response"
   ]
  },
  {
   "attachments": {},
   "cell_type": "markdown",
   "metadata": {},
   "source": [
    "Indicate pandas to display float numbers using only 2 decimals"
   ]
  },
  {
   "cell_type": "code",
   "execution_count": 2,
   "metadata": {},
   "outputs": [],
   "source": [
    "pd.set_option('display.float_format', '{:.2f}'.format)"
   ]
  },
  {
   "cell_type": "code",
   "execution_count": 3,
   "metadata": {},
   "outputs": [],
   "source": [
    "df_score = pd.read_csv(r'data.csv')"
   ]
  },
  {
   "cell_type": "code",
   "execution_count": 4,
   "metadata": {},
   "outputs": [
    {
     "data": {
      "text/html": [
       "<div>\n",
       "<style scoped>\n",
       "    .dataframe tbody tr th:only-of-type {\n",
       "        vertical-align: middle;\n",
       "    }\n",
       "\n",
       "    .dataframe tbody tr th {\n",
       "        vertical-align: top;\n",
       "    }\n",
       "\n",
       "    .dataframe thead th {\n",
       "        text-align: right;\n",
       "    }\n",
       "</style>\n",
       "<table border=\"1\" class=\"dataframe\">\n",
       "  <thead>\n",
       "    <tr style=\"text-align: right;\">\n",
       "      <th></th>\n",
       "      <th>id</th>\n",
       "      <th>show_id</th>\n",
       "      <th>type</th>\n",
       "      <th>title</th>\n",
       "      <th>director</th>\n",
       "      <th>cast</th>\n",
       "      <th>country</th>\n",
       "      <th>date_added</th>\n",
       "      <th>release_year</th>\n",
       "      <th>rating</th>\n",
       "      <th>duration</th>\n",
       "      <th>listed_in</th>\n",
       "      <th>description</th>\n",
       "      <th>platform</th>\n",
       "      <th>duration_int</th>\n",
       "      <th>duration_type</th>\n",
       "      <th>score</th>\n",
       "    </tr>\n",
       "  </thead>\n",
       "  <tbody>\n",
       "    <tr>\n",
       "      <th>0</th>\n",
       "      <td>as1</td>\n",
       "      <td>s1</td>\n",
       "      <td>movie</td>\n",
       "      <td>the grand seduction</td>\n",
       "      <td>don mckellar</td>\n",
       "      <td>brendan gleeson, taylor kitsch, gordon pinsent</td>\n",
       "      <td>canada</td>\n",
       "      <td>2021-03-30</td>\n",
       "      <td>2014</td>\n",
       "      <td>g</td>\n",
       "      <td>113 min</td>\n",
       "      <td>comedy, drama</td>\n",
       "      <td>a small fishing village must procure a local d...</td>\n",
       "      <td>amazon</td>\n",
       "      <td>113</td>\n",
       "      <td>min</td>\n",
       "      <td>3.47</td>\n",
       "    </tr>\n",
       "    <tr>\n",
       "      <th>1</th>\n",
       "      <td>as2</td>\n",
       "      <td>s2</td>\n",
       "      <td>movie</td>\n",
       "      <td>take care good night</td>\n",
       "      <td>girish joshi</td>\n",
       "      <td>mahesh manjrekar, abhay mahajan, sachin khedekar</td>\n",
       "      <td>india</td>\n",
       "      <td>2021-03-30</td>\n",
       "      <td>2018</td>\n",
       "      <td>13+</td>\n",
       "      <td>110 min</td>\n",
       "      <td>drama, international</td>\n",
       "      <td>a metro family decides to fight a cyber crimin...</td>\n",
       "      <td>amazon</td>\n",
       "      <td>110</td>\n",
       "      <td>min</td>\n",
       "      <td>3.55</td>\n",
       "    </tr>\n",
       "    <tr>\n",
       "      <th>2</th>\n",
       "      <td>as3</td>\n",
       "      <td>s3</td>\n",
       "      <td>movie</td>\n",
       "      <td>secrets of deception</td>\n",
       "      <td>josh webber</td>\n",
       "      <td>tom sizemore, lorenzo lamas, robert lasardo, r...</td>\n",
       "      <td>united states</td>\n",
       "      <td>2021-03-30</td>\n",
       "      <td>2017</td>\n",
       "      <td>g</td>\n",
       "      <td>74 min</td>\n",
       "      <td>action, drama, suspense</td>\n",
       "      <td>after a man discovers his wife is cheating on ...</td>\n",
       "      <td>amazon</td>\n",
       "      <td>74</td>\n",
       "      <td>min</td>\n",
       "      <td>3.50</td>\n",
       "    </tr>\n",
       "    <tr>\n",
       "      <th>3</th>\n",
       "      <td>as4</td>\n",
       "      <td>s4</td>\n",
       "      <td>movie</td>\n",
       "      <td>pink: staying true</td>\n",
       "      <td>sonia anderson</td>\n",
       "      <td>interviews with: pink, adele, beyoncé, britney...</td>\n",
       "      <td>united states</td>\n",
       "      <td>2021-03-30</td>\n",
       "      <td>2014</td>\n",
       "      <td>g</td>\n",
       "      <td>69 min</td>\n",
       "      <td>documentary</td>\n",
       "      <td>pink breaks the mold once again, bringing her ...</td>\n",
       "      <td>amazon</td>\n",
       "      <td>69</td>\n",
       "      <td>min</td>\n",
       "      <td>3.54</td>\n",
       "    </tr>\n",
       "    <tr>\n",
       "      <th>4</th>\n",
       "      <td>as5</td>\n",
       "      <td>s5</td>\n",
       "      <td>movie</td>\n",
       "      <td>monster maker</td>\n",
       "      <td>giles foster</td>\n",
       "      <td>harry dean stanton, kieran o'brien, george cos...</td>\n",
       "      <td>united kingdom</td>\n",
       "      <td>2021-03-30</td>\n",
       "      <td>1989</td>\n",
       "      <td>g</td>\n",
       "      <td>45 min</td>\n",
       "      <td>drama, fantasy</td>\n",
       "      <td>teenage matt banting wants to work with a famo...</td>\n",
       "      <td>amazon</td>\n",
       "      <td>45</td>\n",
       "      <td>min</td>\n",
       "      <td>3.48</td>\n",
       "    </tr>\n",
       "    <tr>\n",
       "      <th>...</th>\n",
       "      <td>...</td>\n",
       "      <td>...</td>\n",
       "      <td>...</td>\n",
       "      <td>...</td>\n",
       "      <td>...</td>\n",
       "      <td>...</td>\n",
       "      <td>...</td>\n",
       "      <td>...</td>\n",
       "      <td>...</td>\n",
       "      <td>...</td>\n",
       "      <td>...</td>\n",
       "      <td>...</td>\n",
       "      <td>...</td>\n",
       "      <td>...</td>\n",
       "      <td>...</td>\n",
       "      <td>...</td>\n",
       "      <td>...</td>\n",
       "    </tr>\n",
       "    <tr>\n",
       "      <th>22993</th>\n",
       "      <td>ns8803</td>\n",
       "      <td>s8803</td>\n",
       "      <td>movie</td>\n",
       "      <td>zodiac</td>\n",
       "      <td>david fincher</td>\n",
       "      <td>mark ruffalo, jake gyllenhaal, robert downey j...</td>\n",
       "      <td>united states</td>\n",
       "      <td>2019-11-20</td>\n",
       "      <td>2007</td>\n",
       "      <td>r</td>\n",
       "      <td>158 min</td>\n",
       "      <td>cult movies, dramas, thrillers</td>\n",
       "      <td>a political cartoonist, a crime reporter and a...</td>\n",
       "      <td>netflix</td>\n",
       "      <td>158</td>\n",
       "      <td>min</td>\n",
       "      <td>3.44</td>\n",
       "    </tr>\n",
       "    <tr>\n",
       "      <th>22994</th>\n",
       "      <td>ns8804</td>\n",
       "      <td>s8804</td>\n",
       "      <td>tv show</td>\n",
       "      <td>zombie dumb</td>\n",
       "      <td>NaN</td>\n",
       "      <td>NaN</td>\n",
       "      <td>NaN</td>\n",
       "      <td>2019-07-01</td>\n",
       "      <td>2018</td>\n",
       "      <td>tv-y7</td>\n",
       "      <td>2 seasons</td>\n",
       "      <td>kids' tv, korean tv shows, tv comedies</td>\n",
       "      <td>while living alone in a spooky town, a young g...</td>\n",
       "      <td>netflix</td>\n",
       "      <td>2</td>\n",
       "      <td>seasons</td>\n",
       "      <td>3.52</td>\n",
       "    </tr>\n",
       "    <tr>\n",
       "      <th>22995</th>\n",
       "      <td>ns8805</td>\n",
       "      <td>s8805</td>\n",
       "      <td>movie</td>\n",
       "      <td>zombieland</td>\n",
       "      <td>ruben fleischer</td>\n",
       "      <td>jesse eisenberg, woody harrelson, emma stone, ...</td>\n",
       "      <td>united states</td>\n",
       "      <td>2019-11-01</td>\n",
       "      <td>2009</td>\n",
       "      <td>r</td>\n",
       "      <td>88 min</td>\n",
       "      <td>comedies, horror movies</td>\n",
       "      <td>looking to survive in a world taken over by zo...</td>\n",
       "      <td>netflix</td>\n",
       "      <td>88</td>\n",
       "      <td>min</td>\n",
       "      <td>3.42</td>\n",
       "    </tr>\n",
       "    <tr>\n",
       "      <th>22996</th>\n",
       "      <td>ns8806</td>\n",
       "      <td>s8806</td>\n",
       "      <td>movie</td>\n",
       "      <td>zoom</td>\n",
       "      <td>peter hewitt</td>\n",
       "      <td>tim allen, courteney cox, chevy chase, kate ma...</td>\n",
       "      <td>united states</td>\n",
       "      <td>2020-01-11</td>\n",
       "      <td>2006</td>\n",
       "      <td>pg</td>\n",
       "      <td>88 min</td>\n",
       "      <td>children &amp; family movies, comedies</td>\n",
       "      <td>dragged from civilian life, a former superhero...</td>\n",
       "      <td>netflix</td>\n",
       "      <td>88</td>\n",
       "      <td>min</td>\n",
       "      <td>3.59</td>\n",
       "    </tr>\n",
       "    <tr>\n",
       "      <th>22997</th>\n",
       "      <td>ns8807</td>\n",
       "      <td>s8807</td>\n",
       "      <td>movie</td>\n",
       "      <td>zubaan</td>\n",
       "      <td>mozez singh</td>\n",
       "      <td>vicky kaushal, sarah-jane dias, raaghav chanan...</td>\n",
       "      <td>india</td>\n",
       "      <td>2019-03-02</td>\n",
       "      <td>2015</td>\n",
       "      <td>tv-14</td>\n",
       "      <td>111 min</td>\n",
       "      <td>dramas, international movies, music &amp; musicals</td>\n",
       "      <td>a scrappy but poor boy worms his way into a ty...</td>\n",
       "      <td>netflix</td>\n",
       "      <td>111</td>\n",
       "      <td>min</td>\n",
       "      <td>3.53</td>\n",
       "    </tr>\n",
       "  </tbody>\n",
       "</table>\n",
       "<p>22998 rows × 17 columns</p>\n",
       "</div>"
      ],
      "text/plain": [
       "           id show_id     type                 title         director   \n",
       "0         as1      s1    movie   the grand seduction     don mckellar  \\\n",
       "1         as2      s2    movie  take care good night     girish joshi   \n",
       "2         as3      s3    movie  secrets of deception      josh webber   \n",
       "3         as4      s4    movie    pink: staying true   sonia anderson   \n",
       "4         as5      s5    movie         monster maker     giles foster   \n",
       "...       ...     ...      ...                   ...              ...   \n",
       "22993  ns8803   s8803    movie                zodiac    david fincher   \n",
       "22994  ns8804   s8804  tv show           zombie dumb              NaN   \n",
       "22995  ns8805   s8805    movie            zombieland  ruben fleischer   \n",
       "22996  ns8806   s8806    movie                  zoom     peter hewitt   \n",
       "22997  ns8807   s8807    movie                zubaan      mozez singh   \n",
       "\n",
       "                                                    cast         country   \n",
       "0         brendan gleeson, taylor kitsch, gordon pinsent          canada  \\\n",
       "1       mahesh manjrekar, abhay mahajan, sachin khedekar           india   \n",
       "2      tom sizemore, lorenzo lamas, robert lasardo, r...   united states   \n",
       "3      interviews with: pink, adele, beyoncé, britney...   united states   \n",
       "4      harry dean stanton, kieran o'brien, george cos...  united kingdom   \n",
       "...                                                  ...             ...   \n",
       "22993  mark ruffalo, jake gyllenhaal, robert downey j...   united states   \n",
       "22994                                                NaN             NaN   \n",
       "22995  jesse eisenberg, woody harrelson, emma stone, ...   united states   \n",
       "22996  tim allen, courteney cox, chevy chase, kate ma...   united states   \n",
       "22997  vicky kaushal, sarah-jane dias, raaghav chanan...           india   \n",
       "\n",
       "       date_added  release_year rating   duration   \n",
       "0      2021-03-30          2014      g    113 min  \\\n",
       "1      2021-03-30          2018    13+    110 min   \n",
       "2      2021-03-30          2017      g     74 min   \n",
       "3      2021-03-30          2014      g     69 min   \n",
       "4      2021-03-30          1989      g     45 min   \n",
       "...           ...           ...    ...        ...   \n",
       "22993  2019-11-20          2007      r    158 min   \n",
       "22994  2019-07-01          2018  tv-y7  2 seasons   \n",
       "22995  2019-11-01          2009      r     88 min   \n",
       "22996  2020-01-11          2006     pg     88 min   \n",
       "22997  2019-03-02          2015  tv-14    111 min   \n",
       "\n",
       "                                            listed_in   \n",
       "0                                       comedy, drama  \\\n",
       "1                                drama, international   \n",
       "2                             action, drama, suspense   \n",
       "3                                         documentary   \n",
       "4                                      drama, fantasy   \n",
       "...                                               ...   \n",
       "22993                  cult movies, dramas, thrillers   \n",
       "22994          kids' tv, korean tv shows, tv comedies   \n",
       "22995                         comedies, horror movies   \n",
       "22996              children & family movies, comedies   \n",
       "22997  dramas, international movies, music & musicals   \n",
       "\n",
       "                                             description platform   \n",
       "0      a small fishing village must procure a local d...   amazon  \\\n",
       "1      a metro family decides to fight a cyber crimin...   amazon   \n",
       "2      after a man discovers his wife is cheating on ...   amazon   \n",
       "3      pink breaks the mold once again, bringing her ...   amazon   \n",
       "4      teenage matt banting wants to work with a famo...   amazon   \n",
       "...                                                  ...      ...   \n",
       "22993  a political cartoonist, a crime reporter and a...  netflix   \n",
       "22994  while living alone in a spooky town, a young g...  netflix   \n",
       "22995  looking to survive in a world taken over by zo...  netflix   \n",
       "22996  dragged from civilian life, a former superhero...  netflix   \n",
       "22997  a scrappy but poor boy worms his way into a ty...  netflix   \n",
       "\n",
       "       duration_int duration_type  score  \n",
       "0               113           min   3.47  \n",
       "1               110           min   3.55  \n",
       "2                74           min   3.50  \n",
       "3                69           min   3.54  \n",
       "4                45           min   3.48  \n",
       "...             ...           ...    ...  \n",
       "22993           158           min   3.44  \n",
       "22994             2       seasons   3.52  \n",
       "22995            88           min   3.42  \n",
       "22996            88           min   3.59  \n",
       "22997           111           min   3.53  \n",
       "\n",
       "[22998 rows x 17 columns]"
      ]
     },
     "execution_count": 4,
     "metadata": {},
     "output_type": "execute_result"
    }
   ],
   "source": [
    "df_score"
   ]
  },
  {
   "attachments": {},
   "cell_type": "markdown",
   "metadata": {},
   "source": [
    "# 1. ETL"
   ]
  },
  {
   "attachments": {},
   "cell_type": "markdown",
   "metadata": {},
   "source": [
    "### 1.1 Extraction: start by retrieving the data from various csv files."
   ]
  },
  {
   "attachments": {},
   "cell_type": "markdown",
   "metadata": {},
   "source": [
    "##### 1.1.1 Create all the necessary dataframes"
   ]
  },
  {
   "cell_type": "code",
   "execution_count": 3,
   "metadata": {},
   "outputs": [],
   "source": [
    "df1_ratings = pd.read_csv(r'MLOpsReviews/ratings/1.csv')\n",
    "df2_ratings = pd.read_csv(r'MLOpsReviews/ratings/2.csv')\n",
    "df3_ratings = pd.read_csv(r'MLOpsReviews/ratings/3.csv')\n",
    "df4_ratings = pd.read_csv(r'MLOpsReviews/ratings/4.csv')\n",
    "df5_ratings = pd.read_csv(r'MLOpsReviews/ratings/5.csv')\n",
    "df6_ratings = pd.read_csv(r'MLOpsReviews/ratings/6.csv')\n",
    "df7_ratings = pd.read_csv(r'MLOpsReviews/ratings/7.csv')\n",
    "df8_ratings = pd.read_csv(r'MLOpsReviews/ratings/8.csv')\n",
    "\n",
    "df_amazon = pd.read_csv(r'MLOpsReviews/amazon_prime_titles.csv')\n",
    "df_disney = pd.read_csv(r'MLOpsReviews/disney_plus_titles.csv')\n",
    "df_hulu = pd.read_csv(r'MLOpsReviews/hulu_titles.csv')\n",
    "df_netflix = pd.read_csv(r'MLOpsReviews/netflix_titles.csv')"
   ]
  },
  {
   "attachments": {},
   "cell_type": "markdown",
   "metadata": {},
   "source": [
    "##### 1.1.2 Combine all the ratings datasets"
   ]
  },
  {
   "cell_type": "code",
   "execution_count": 4,
   "metadata": {},
   "outputs": [],
   "source": [
    "df_ratings = pd.concat([df1_ratings, df2_ratings, df3_ratings, df4_ratings, \n",
    "                        df5_ratings, df6_ratings, df7_ratings, df8_ratings])"
   ]
  },
  {
   "attachments": {},
   "cell_type": "markdown",
   "metadata": {},
   "source": [
    "### 1.2 Transformation: basic EDA and data cleaning/preparation."
   ]
  },
  {
   "attachments": {},
   "cell_type": "markdown",
   "metadata": {},
   "source": [
    "### _First group of datasets  (ratings 1 - 8)_"
   ]
  },
  {
   "attachments": {},
   "cell_type": "markdown",
   "metadata": {},
   "source": [
    "##### 1.2.1 Checking for null values"
   ]
  },
  {
   "cell_type": "code",
   "execution_count": 5,
   "metadata": {},
   "outputs": [
    {
     "data": {
      "text/plain": [
       "userId       0\n",
       "rating       0\n",
       "timestamp    0\n",
       "movieId      0\n",
       "dtype: int64"
      ]
     },
     "execution_count": 5,
     "metadata": {},
     "output_type": "execute_result"
    }
   ],
   "source": [
    "df_ratings.isnull().sum()"
   ]
  },
  {
   "attachments": {},
   "cell_type": "markdown",
   "metadata": {},
   "source": [
    "##### 1.2.2 Checking and dropping duplicates"
   ]
  },
  {
   "cell_type": "code",
   "execution_count": 6,
   "metadata": {},
   "outputs": [],
   "source": [
    "df_ratings.duplicated().sum()\n",
    "df_ratings.drop_duplicates(inplace=True)"
   ]
  },
  {
   "attachments": {},
   "cell_type": "markdown",
   "metadata": {},
   "source": [
    "##### 1.2.3 Checking data types of each column."
   ]
  },
  {
   "cell_type": "code",
   "execution_count": 7,
   "metadata": {},
   "outputs": [
    {
     "data": {
      "text/plain": [
       "userId         int64\n",
       "rating       float64\n",
       "timestamp      int64\n",
       "movieId       object\n",
       "dtype: object"
      ]
     },
     "execution_count": 7,
     "metadata": {},
     "output_type": "execute_result"
    }
   ],
   "source": [
    "df_ratings.dtypes"
   ]
  },
  {
   "attachments": {},
   "cell_type": "markdown",
   "metadata": {},
   "source": [
    "##### 1.2.4 Create a new column called date with a proper date format. I will NOT drop the timestamp column for now."
   ]
  },
  {
   "cell_type": "code",
   "execution_count": 8,
   "metadata": {},
   "outputs": [],
   "source": [
    "df_ratings['date'] = pd.to_datetime(df_ratings['timestamp'], unit='s').dt.strftime('%Y-%m-%d')"
   ]
  },
  {
   "attachments": {},
   "cell_type": "markdown",
   "metadata": {},
   "source": [
    "##### 1.2.5 Get the average rating grouped by unique movies and store the array in a variable"
   ]
  },
  {
   "cell_type": "code",
   "execution_count": 9,
   "metadata": {},
   "outputs": [],
   "source": [
    "average_score = df_ratings.groupby('movieId')['rating'].mean()"
   ]
  },
  {
   "attachments": {},
   "cell_type": "markdown",
   "metadata": {},
   "source": [
    "##### 1.2.6 Make a new dataframe containing the average rating and the movie ID from the previous variable by resetting the index. This dataframe will be used later on to create a bigger dataframe with more data."
   ]
  },
  {
   "cell_type": "code",
   "execution_count": 10,
   "metadata": {},
   "outputs": [],
   "source": [
    "df_average_score = average_score.reset_index()[['movieId', 'rating']]"
   ]
  },
  {
   "attachments": {},
   "cell_type": "markdown",
   "metadata": {},
   "source": [
    "### _Second group of datasets (information about movies on Amazon, Disney, Hulu and Netflix)._"
   ]
  },
  {
   "attachments": {},
   "cell_type": "markdown",
   "metadata": {},
   "source": [
    "##### 1.2.7 Check for duplicates"
   ]
  },
  {
   "cell_type": "code",
   "execution_count": 11,
   "metadata": {},
   "outputs": [
    {
     "name": "stdout",
     "output_type": "stream",
     "text": [
      "0\n",
      "0\n",
      "0\n",
      "0\n"
     ]
    }
   ],
   "source": [
    "print(df_amazon.duplicated().sum())\n",
    "print(df_disney.duplicated().sum())\n",
    "print(df_hulu.duplicated().sum())\n",
    "print(df_netflix.duplicated().sum())"
   ]
  },
  {
   "attachments": {},
   "cell_type": "markdown",
   "metadata": {},
   "source": [
    "##### 1.2.8 Make a list of the platforms dataframes"
   ]
  },
  {
   "cell_type": "code",
   "execution_count": 12,
   "metadata": {},
   "outputs": [],
   "source": [
    "platforms = [df_amazon, df_disney, df_hulu, df_netflix]"
   ]
  },
  {
   "attachments": {},
   "cell_type": "markdown",
   "metadata": {},
   "source": [
    "##### 1.2.9 Assing a name to these dataframes to create a composite ID later"
   ]
  },
  {
   "cell_type": "code",
   "execution_count": 13,
   "metadata": {},
   "outputs": [],
   "source": [
    "df_amazon.name = 'amazon'\n",
    "df_disney.name = 'disney'\n",
    "df_hulu.name = 'hulu'\n",
    "df_netflix.name = 'netflix'"
   ]
  },
  {
   "attachments": {},
   "cell_type": "markdown",
   "metadata": {},
   "source": [
    "##### 1.2.10 Create a new column at the start of each of the platforms dataframes with the name 'id' and a value corresponding of the fist letter of the name of the platform and the show_id"
   ]
  },
  {
   "cell_type": "code",
   "execution_count": 14,
   "metadata": {},
   "outputs": [],
   "source": [
    "for i in platforms:\n",
    "    i['platform'] = i.name\n",
    "    i.insert(loc=0, column='id', value= i.name[0]+i['show_id'])"
   ]
  },
  {
   "attachments": {},
   "cell_type": "markdown",
   "metadata": {},
   "source": [
    "##### 1.2.11 Merge the previous four dataframes into a new one provided that they already have an ID column and a platform column"
   ]
  },
  {
   "cell_type": "code",
   "execution_count": 15,
   "metadata": {},
   "outputs": [],
   "source": [
    "df_platforms = pd.concat([df_amazon, df_disney, df_hulu, df_netflix])"
   ]
  },
  {
   "attachments": {},
   "cell_type": "markdown",
   "metadata": {},
   "source": [
    "##### 1.2.12 Check if the amount of unique movies in these platforms coincides with the amount of unique movies in the ratings data set"
   ]
  },
  {
   "cell_type": "code",
   "execution_count": 16,
   "metadata": {},
   "outputs": [
    {
     "data": {
      "text/plain": [
       "True"
      ]
     },
     "execution_count": 16,
     "metadata": {},
     "output_type": "execute_result"
    }
   ],
   "source": [
    "len(df_ratings['movieId'].unique()) == len(df_platforms['id'].unique())"
   ]
  },
  {
   "attachments": {},
   "cell_type": "markdown",
   "metadata": {},
   "source": [
    "##### 1.2.13 Replace the null values in the rating column with the string \"G\""
   ]
  },
  {
   "cell_type": "code",
   "execution_count": 17,
   "metadata": {},
   "outputs": [],
   "source": [
    "df_platforms['rating'] = df_platforms['rating'].fillna(\"G\")"
   ]
  },
  {
   "attachments": {},
   "cell_type": "markdown",
   "metadata": {},
   "source": [
    "##### 1.2.14 Remove empty spaces at the beggining of the string and then use the pandas to_datetime function to convert the original string into a proper date object format"
   ]
  },
  {
   "cell_type": "code",
   "execution_count": 18,
   "metadata": {},
   "outputs": [],
   "source": [
    "df_platforms['date_added'] = df_platforms['date_added'].str.strip()\n",
    "df_platforms['date_added'] = pd.to_datetime(df_platforms['date_added'], format='%B %d, %Y')"
   ]
  },
  {
   "attachments": {},
   "cell_type": "markdown",
   "metadata": {},
   "source": [
    "##### 1.2.15 Go through every cell, select only the string type cells and apply the lower function to those, leave the rest as they are."
   ]
  },
  {
   "cell_type": "code",
   "execution_count": 19,
   "metadata": {},
   "outputs": [],
   "source": [
    "df_platforms.iloc[:] = df_platforms.iloc[:].applymap(lambda x: x.lower() if isinstance(x, str) else x)"
   ]
  },
  {
   "attachments": {},
   "cell_type": "markdown",
   "metadata": {},
   "source": [
    "##### 1.2.16 Do the same for the ratings dataframe"
   ]
  },
  {
   "cell_type": "code",
   "execution_count": 20,
   "metadata": {},
   "outputs": [],
   "source": [
    "df_ratings.iloc[:] = df_ratings.iloc[:].applymap(lambda x: x.lower() if isinstance(x, str) else x)"
   ]
  },
  {
   "attachments": {},
   "cell_type": "markdown",
   "metadata": {},
   "source": [
    "##### 1.2.17 I split the duration column into two new columns using the split method. Then I transform all the missing values in the duration_int column to 0 in order to be able to transform it into an integer value."
   ]
  },
  {
   "cell_type": "code",
   "execution_count": 21,
   "metadata": {},
   "outputs": [],
   "source": [
    "df_platforms[['duration_int', 'duration_type']] = df_platforms['duration'].str.split(expand=True)\n",
    "df_platforms['duration_int'] = df_platforms['duration_int'].fillna(0).astype(int)"
   ]
  },
  {
   "attachments": {},
   "cell_type": "markdown",
   "metadata": {},
   "source": [
    "### 1.3 Load: create and deploy an API using the _fastAPI_ framework and Render"
   ]
  },
  {
   "attachments": {},
   "cell_type": "markdown",
   "metadata": {},
   "source": [
    "##### Create an instance of the FastAPI class"
   ]
  },
  {
   "cell_type": "code",
   "execution_count": 22,
   "metadata": {},
   "outputs": [],
   "source": [
    "app = FastAPI()"
   ]
  },
  {
   "attachments": {},
   "cell_type": "markdown",
   "metadata": {},
   "source": [
    "##### 1.3.1 First endpoint for getting the movie with the longest duration"
   ]
  },
  {
   "cell_type": "code",
   "execution_count": 24,
   "metadata": {},
   "outputs": [],
   "source": [
    "@app.get('/get_max_duration/{anio}/{plataforma}/{dtype}')\n",
    "\n",
    "# Define the function to handle the endpoint\n",
    "def get_max_duration(anio: int, plataforma: str, dtype: str):\n",
    "    \n",
    "    # Check if input values are valid and exist in DataFrame\n",
    "    assert anio in df_score['release_year'].unique(), f\"Invalid year: {anio}\"\n",
    "    assert plataforma.lower() in df_score['platform'].unique(), f\"Invalid platform: {plataforma}\"\n",
    "    assert dtype.lower() in df_score['duration_type'].unique(), f\"Invalid duration type: {dtype}\"\n",
    "    \n",
    "    # Filter the platform data for the requested platform name, year and duration type of the movie\n",
    "    filter_1 = df_score.loc[(df_score['release_year'] == anio) & \n",
    "                                (df_score['duration_type'] == dtype.lower()) & \n",
    "                                (df_score['platform'] == plataforma.lower()) & \n",
    "                                (df_score['type'] == 'movie')]\n",
    "    \n",
    "    # Check if filtered data is empty\n",
    "    if filter_1.empty:\n",
    "        return {\"error\": \"No movies found with the specified criteria.\"}\n",
    "    \n",
    "    # Sort the filtered data by duration\n",
    "    filter_1 = filter_1.sort_values('duration_int', ascending=False)\n",
    "    \n",
    "    # Find the movie(s) with the maximum duration\n",
    "    max_duration = filter_1['duration_int'].max()\n",
    "    \n",
    "    if len(filter_1.loc[filter_1['duration_int'] == max_duration]) > 1:\n",
    "        response_1 = (filter_1.loc[filter_1['duration_int'] == max_duration]).tolist()\n",
    "        return {\"peliculas\": response_1}\n",
    "    else:\n",
    "        return {\"pelicula\": filter_1.loc[filter_1['duration_int'].idxmax(), 'title']}"
   ]
  },
  {
   "attachments": {},
   "cell_type": "markdown",
   "metadata": {},
   "source": [
    "##### 1.3.2 Second endpoint that gets the amount of movies with a score higher than a specified amount. The inputs the platform name, the release year and the score to apply the corresponding filters."
   ]
  },
  {
   "attachments": {},
   "cell_type": "markdown",
   "metadata": {},
   "source": [
    "###### 1.3.2.1 Add the average score from the df_average_rating dataframe to df_platforms by combining both tables through a common column (id) but first I rename one of the columns."
   ]
  },
  {
   "cell_type": "code",
   "execution_count": 25,
   "metadata": {},
   "outputs": [],
   "source": [
    "df_average_score = df_average_score.rename(columns={'movieId':'id'})"
   ]
  },
  {
   "cell_type": "code",
   "execution_count": 26,
   "metadata": {},
   "outputs": [],
   "source": [
    "df_score = pd.merge(df_platforms, df_average_score, on='id')"
   ]
  },
  {
   "attachments": {},
   "cell_type": "markdown",
   "metadata": {},
   "source": [
    "###### 1.3.2.2 Rename some more columns for better readability"
   ]
  },
  {
   "cell_type": "code",
   "execution_count": 27,
   "metadata": {},
   "outputs": [],
   "source": [
    "df_score = df_score.rename(columns={'rating_x':'rating','rating_y':'score'})"
   ]
  },
  {
   "attachments": {},
   "cell_type": "markdown",
   "metadata": {},
   "source": [
    "###### 1.3.2.3 Defining the logic for the endpoint"
   ]
  },
  {
   "cell_type": "code",
   "execution_count": 28,
   "metadata": {},
   "outputs": [],
   "source": [
    "@app.get('/get_score_count/{plataforma}/{scored}/{anio}')\n",
    "\n",
    "def get_score_count(plataforma: str, scored: float, anio: int):\n",
    "    \n",
    "    # Check if input values are valid and exist in DataFrame\n",
    "    assert anio in df_score['release_year'].unique(), f\"Invalid year: {anio}\"\n",
    "    assert plataforma.lower() in df_score['platform'].unique(), f\"Invalid platform: {plataforma}\"\n",
    "    assert 0.5 <= scored <= 5.0, f\"Invalid score (must be between 0.5 and 5): {scored}\"\n",
    "    \n",
    "    # Filter the platform data for the requested platform, year and score of the movie\n",
    "    filter_2 = df_score.loc[(df_score['release_year'] == anio) & \n",
    "                            (df_score['platform'] == plataforma.lower()) & \n",
    "                            (df_score['score'] > scored) &\n",
    "                            (df_score['type'] == 'movie')]\n",
    "    \n",
    "    # Checks if filtered data is empty. If not it returns. the desired information.\n",
    "    if filter_2.empty:\n",
    "        return {\"error\": \"No movies found with the specified criteria.\"}\n",
    "    else:\n",
    "        return {'plataforma': plataforma,\n",
    "                'cantidad': filter_2.shape[0],\n",
    "                'anio': anio,\n",
    "                'score': scored}"
   ]
  },
  {
   "attachments": {},
   "cell_type": "markdown",
   "metadata": {},
   "source": [
    "##### 1.3.3 Third endpoint: shows the amount of movies in the specified platform."
   ]
  },
  {
   "cell_type": "code",
   "execution_count": 29,
   "metadata": {},
   "outputs": [],
   "source": [
    "@app.get('/get_count_platform/{plataforma}')\n",
    "def get_count_platform(plataforma: str):\n",
    "\n",
    "    # Check if input value is valid and exists in DataFrame\n",
    "    assert plataforma.lower()  in df_score['platform'].unique(), f\"Invalid platform: {plataforma}\"\n",
    "    \n",
    "    # Filters the platform data for the requested platform and content type (movies only)\n",
    "    filter_3 = df_score.loc[(df_score['platform'] == plataforma.lower()) &\n",
    "                            (df_score['type'] == 'movie')]\n",
    "\n",
    "    return {'plataforma': plataforma, 'peliculas': filter_3.shape[0]}"
   ]
  },
  {
   "attachments": {},
   "cell_type": "markdown",
   "metadata": {},
   "source": [
    "##### 1.3.4 Fourth endpoint: shows the actor that appears more frequently in the specified year and platform."
   ]
  },
  {
   "cell_type": "code",
   "execution_count": 30,
   "metadata": {},
   "outputs": [],
   "source": [
    "@app.get('/get_actor/{plataforma}/{anio}')\n",
    "def get_actor(plataforma: str, anio: int):\n",
    "\n",
    "    # Checks if input values are valid and exist in DataFrame\n",
    "    assert plataforma.lower()  in df_score['platform'].unique(), f\"Invalid platform: {plataforma}\"\n",
    "    assert anio in df_score['release_year'].unique(), f\"Invalid year: {anio}\"\n",
    "    \n",
    "    # Filter the data for the requested platform and year\n",
    "    filter_4 = df_score.loc[(df_score['release_year'] == anio) & \n",
    "                            (df_score['platform'] == plataforma.lower())]\n",
    "    \n",
    "    # Checks if filtered data is empty. If not, it returns the desired information.\n",
    "    if filter_4.empty:\n",
    "        return {\"error\": \"No result was found with the specified criteria.\"}\n",
    "    else:\n",
    "        # split the strings in the 'cast' column on comma separator, flatten the list of lists, remove spaces and count frequencies\n",
    "        response_4 = filter_4['cast'].str.split(',').explode().str.strip().value_counts()\n",
    "        return {\n",
    "                'plataforma': plataforma,\n",
    "                'anio': anio,\n",
    "                'actor': response_4.index[0],\n",
    "                'apariciones': response_4.iloc[0]\n",
    "                }"
   ]
  },
  {
   "attachments": {},
   "cell_type": "markdown",
   "metadata": {},
   "source": [
    "##### 1.3.5 Fifth endpoint: shows the amount of available contents in the platforms in the specified type of content, year and country."
   ]
  },
  {
   "cell_type": "code",
   "execution_count": 31,
   "metadata": {},
   "outputs": [],
   "source": [
    "@app.get('/prod_per_county/{tipo}/{pais}/{anio}')\n",
    "def prod_per_county(tipo: str, pais: str, anio: int):\n",
    "\n",
    "    # Checks if input values are valid and exist in DataFrame\n",
    "    assert tipo.lower()  in df_score['type'].unique(), f\"Invalid type of content: {tipo}\"\n",
    "    assert pais.lower()  in df_score['country'].unique(), f\"Invalid country: {pais}\"\n",
    "    assert anio in df_score['release_year'].unique(), f\"Invalid year: {anio}\"\n",
    "       \n",
    "    # Filter the data for the requested type of content, year and country\n",
    "    filter_5 = df_score.loc[(df_score['type'] == tipo.lower() ) & \n",
    "                            (df_score['country'] == pais.lower() ) & \n",
    "                            (df_score['release_year'] == anio)]       \n",
    "        \n",
    "    # Checks if filtered data is empty. If not, it returns the desired information.\n",
    "    if filter_5.empty:\n",
    "        return {\"error\": \"No result was found with the specified criteria.\"}\n",
    "    else:\n",
    "         return {'pais': pais, 'anio': anio, 'tipo': tipo, 'peliculas': filter_5.shape[0]}"
   ]
  },
  {
   "attachments": {},
   "cell_type": "markdown",
   "metadata": {},
   "source": [
    "##### 1.3.6 Sixth endpoint: shows the total amount of contents based on the audience rating."
   ]
  },
  {
   "cell_type": "code",
   "execution_count": 32,
   "metadata": {},
   "outputs": [],
   "source": [
    "@app.get('/get_contents/{rating}')\n",
    "def get_contents(rating: str):\n",
    "    \n",
    "    # Checks if the input value is valid and exists in DataFrame\n",
    "    assert rating.lower() in df_score['rating'].unique(), f\"Invalid rating: {rating}\"\n",
    "    \n",
    "    # Filters the data for the requested audience\n",
    "    filter_6 = df_score.loc[df_score['rating'] == rating.lower()]       \n",
    "        \n",
    "    # Checks if filtered data is empty. If not, it returns the desired information.\n",
    "    if filter_6.empty:\n",
    "        return {\"error\": \"No result was found with the specified criteria.\"}\n",
    "    else:\n",
    "        return {'rating': rating, 'contenido': filter_6.shape[0]}"
   ]
  },
  {
   "attachments": {},
   "cell_type": "markdown",
   "metadata": {},
   "source": [
    "##### 1.3.7 Deployment"
   ]
  },
  {
   "attachments": {},
   "cell_type": "markdown",
   "metadata": {},
   "source": [
    "##### 2.1 ML QUERY"
   ]
  },
  {
   "cell_type": "code",
   "execution_count": null,
   "metadata": {},
   "outputs": [],
   "source": [
    "# @app.get('/get_recomendation/{title}')\n",
    "# def get_recomendation(title,):\n",
    "    #    \n",
    "    # return {'recomendacion':respuesta}"
   ]
  }
 ],
 "metadata": {
  "kernelspec": {
   "display_name": "Python 3",
   "language": "python",
   "name": "python3"
  },
  "language_info": {
   "codemirror_mode": {
    "name": "ipython",
    "version": 3
   },
   "file_extension": ".py",
   "mimetype": "text/x-python",
   "name": "python",
   "nbconvert_exporter": "python",
   "pygments_lexer": "ipython3",
   "version": "3.11.3"
  },
  "orig_nbformat": 4,
  "vscode": {
   "interpreter": {
    "hash": "1f89eb7ee7f691a835530315e9cc5d675e01c25354f3226d466fc4ec3dae4d41"
   }
  }
 },
 "nbformat": 4,
 "nbformat_minor": 2
}
