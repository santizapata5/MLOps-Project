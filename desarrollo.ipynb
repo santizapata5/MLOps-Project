{
 "cells": [
  {
   "attachments": {},
   "cell_type": "markdown",
   "metadata": {},
   "source": [
    "Import the libraries"
   ]
  },
  {
   "cell_type": "code",
   "execution_count": 1,
   "metadata": {},
   "outputs": [],
   "source": [
    "import pandas as pd\n",
    "import numpy as np\n",
    "from datetime import datetime\n",
    "from fastapi import FastAPI, Request, Response"
   ]
  },
  {
   "attachments": {},
   "cell_type": "markdown",
   "metadata": {},
   "source": [
    "Indicate pandas to display float numbers using only 2 decimals"
   ]
  },
  {
   "cell_type": "code",
   "execution_count": 2,
   "metadata": {},
   "outputs": [],
   "source": [
    "pd.set_option('display.float_format', '{:.2f}'.format)"
   ]
  },
  {
   "attachments": {},
   "cell_type": "markdown",
   "metadata": {},
   "source": [
    "# 1. ETL"
   ]
  },
  {
   "attachments": {},
   "cell_type": "markdown",
   "metadata": {},
   "source": [
    "### 1.1 Extraction: start by retrieving the data from various csv files."
   ]
  },
  {
   "attachments": {},
   "cell_type": "markdown",
   "metadata": {},
   "source": [
    "##### 1.1.1 Create all the necessary dataframes"
   ]
  },
  {
   "cell_type": "code",
   "execution_count": 3,
   "metadata": {},
   "outputs": [],
   "source": [
    "df1_ratings = pd.read_csv(r'MLOpsReviews/ratings/1.csv')\n",
    "df2_ratings = pd.read_csv(r'MLOpsReviews/ratings/2.csv')\n",
    "df3_ratings = pd.read_csv(r'MLOpsReviews/ratings/3.csv')\n",
    "df4_ratings = pd.read_csv(r'MLOpsReviews/ratings/4.csv')\n",
    "df5_ratings = pd.read_csv(r'MLOpsReviews/ratings/5.csv')\n",
    "df6_ratings = pd.read_csv(r'MLOpsReviews/ratings/6.csv')\n",
    "df7_ratings = pd.read_csv(r'MLOpsReviews/ratings/7.csv')\n",
    "df8_ratings = pd.read_csv(r'MLOpsReviews/ratings/8.csv')\n",
    "\n",
    "df_amazon = pd.read_csv(r'MLOpsReviews/amazon_prime_titles.csv')\n",
    "df_disney = pd.read_csv(r'MLOpsReviews/disney_plus_titles.csv')\n",
    "df_hulu = pd.read_csv(r'MLOpsReviews/hulu_titles.csv')\n",
    "df_netflix = pd.read_csv(r'MLOpsReviews/netflix_titles.csv')"
   ]
  },
  {
   "attachments": {},
   "cell_type": "markdown",
   "metadata": {},
   "source": [
    "##### 1.1.2 Combine all the ratings datasets"
   ]
  },
  {
   "cell_type": "code",
   "execution_count": 4,
   "metadata": {},
   "outputs": [],
   "source": [
    "df_ratings = pd.concat([df1_ratings, df2_ratings, df3_ratings, df4_ratings, \n",
    "                        df5_ratings, df6_ratings, df7_ratings, df8_ratings])"
   ]
  },
  {
   "attachments": {},
   "cell_type": "markdown",
   "metadata": {},
   "source": [
    "### 1.2 Transformation: basic EDA and data cleaning/preparation."
   ]
  },
  {
   "attachments": {},
   "cell_type": "markdown",
   "metadata": {},
   "source": [
    "### _First group of datasets  (ratings 1 - 8)_"
   ]
  },
  {
   "attachments": {},
   "cell_type": "markdown",
   "metadata": {},
   "source": [
    "##### 1.2.1 Checking for null values"
   ]
  },
  {
   "cell_type": "code",
   "execution_count": 5,
   "metadata": {},
   "outputs": [
    {
     "data": {
      "text/plain": [
       "userId       0\n",
       "rating       0\n",
       "timestamp    0\n",
       "movieId      0\n",
       "dtype: int64"
      ]
     },
     "execution_count": 5,
     "metadata": {},
     "output_type": "execute_result"
    }
   ],
   "source": [
    "df_ratings.isnull().sum()"
   ]
  },
  {
   "attachments": {},
   "cell_type": "markdown",
   "metadata": {},
   "source": [
    "##### 1.2.2 Checking and dropping duplicates"
   ]
  },
  {
   "cell_type": "code",
   "execution_count": 6,
   "metadata": {},
   "outputs": [],
   "source": [
    "df_ratings.duplicated().sum()\n",
    "df_ratings.drop_duplicates(inplace=True)"
   ]
  },
  {
   "attachments": {},
   "cell_type": "markdown",
   "metadata": {},
   "source": [
    "##### 1.2.3 Checking data types of each column."
   ]
  },
  {
   "cell_type": "code",
   "execution_count": 7,
   "metadata": {},
   "outputs": [
    {
     "data": {
      "text/plain": [
       "userId         int64\n",
       "rating       float64\n",
       "timestamp      int64\n",
       "movieId       object\n",
       "dtype: object"
      ]
     },
     "execution_count": 7,
     "metadata": {},
     "output_type": "execute_result"
    }
   ],
   "source": [
    "df_ratings.dtypes"
   ]
  },
  {
   "attachments": {},
   "cell_type": "markdown",
   "metadata": {},
   "source": [
    "##### 1.2.4 Create a new column called date with a proper date format. I will NOT drop the timestamp column for now."
   ]
  },
  {
   "cell_type": "code",
   "execution_count": 8,
   "metadata": {},
   "outputs": [],
   "source": [
    "df_ratings['date'] = pd.to_datetime(df_ratings['timestamp'], unit='s').dt.strftime('%Y-%m-%d')"
   ]
  },
  {
   "attachments": {},
   "cell_type": "markdown",
   "metadata": {},
   "source": [
    "##### 1.2.5 Get the average rating grouped by unique movies and store the array in a variable"
   ]
  },
  {
   "cell_type": "code",
   "execution_count": 9,
   "metadata": {},
   "outputs": [],
   "source": [
    "average_score = df_ratings.groupby('movieId')['rating'].mean()"
   ]
  },
  {
   "attachments": {},
   "cell_type": "markdown",
   "metadata": {},
   "source": [
    "##### 1.2.6 Make a new dataframe containing the average rating and the movie ID from the previous variable by resetting the index. This dataframe will be used later on to create a bigger dataframe with more data."
   ]
  },
  {
   "cell_type": "code",
   "execution_count": 10,
   "metadata": {},
   "outputs": [],
   "source": [
    "df_average_score = average_score.reset_index()[['movieId', 'rating']]"
   ]
  },
  {
   "attachments": {},
   "cell_type": "markdown",
   "metadata": {},
   "source": [
    "### _Second group of datasets (information about movies on Amazon, Disney, Hulu and Netflix)._"
   ]
  },
  {
   "attachments": {},
   "cell_type": "markdown",
   "metadata": {},
   "source": [
    "##### 1.2.7 Check for duplicates"
   ]
  },
  {
   "cell_type": "code",
   "execution_count": 11,
   "metadata": {},
   "outputs": [
    {
     "name": "stdout",
     "output_type": "stream",
     "text": [
      "0\n",
      "0\n",
      "0\n",
      "0\n"
     ]
    }
   ],
   "source": [
    "print(df_amazon.duplicated().sum())\n",
    "print(df_disney.duplicated().sum())\n",
    "print(df_hulu.duplicated().sum())\n",
    "print(df_netflix.duplicated().sum())"
   ]
  },
  {
   "attachments": {},
   "cell_type": "markdown",
   "metadata": {},
   "source": [
    "##### 1.2.8 Make a list of the platforms dataframes"
   ]
  },
  {
   "cell_type": "code",
   "execution_count": 12,
   "metadata": {},
   "outputs": [],
   "source": [
    "platforms = [df_amazon, df_disney, df_hulu, df_netflix]"
   ]
  },
  {
   "attachments": {},
   "cell_type": "markdown",
   "metadata": {},
   "source": [
    "##### 1.2.9 Assing a name to these dataframes to create a composite ID later"
   ]
  },
  {
   "cell_type": "code",
   "execution_count": 13,
   "metadata": {},
   "outputs": [],
   "source": [
    "df_amazon.name = 'amazon'\n",
    "df_disney.name = 'disney'\n",
    "df_hulu.name = 'hulu'\n",
    "df_netflix.name = 'netflix'"
   ]
  },
  {
   "attachments": {},
   "cell_type": "markdown",
   "metadata": {},
   "source": [
    "##### 1.2.10 Create a new column at the start of each of the platforms dataframes with the name 'id' and a value corresponding of the fist letter of the name of the platform and the show_id"
   ]
  },
  {
   "cell_type": "code",
   "execution_count": 14,
   "metadata": {},
   "outputs": [],
   "source": [
    "for i in platforms:\n",
    "    i['platform'] = i.name\n",
    "    i.insert(loc=0, column='id', value= i.name[0]+i['show_id'])"
   ]
  },
  {
   "attachments": {},
   "cell_type": "markdown",
   "metadata": {},
   "source": [
    "##### 1.2.11 Merge the previous four dataframes into a new one provided that they already have an ID column and a platform column"
   ]
  },
  {
   "cell_type": "code",
   "execution_count": 15,
   "metadata": {},
   "outputs": [],
   "source": [
    "df_platforms = pd.concat([df_amazon, df_disney, df_hulu, df_netflix])"
   ]
  },
  {
   "attachments": {},
   "cell_type": "markdown",
   "metadata": {},
   "source": [
    "##### 1.2.12 Check if the amount of unique movies in these platforms coincides with the amount of unique movies in the ratings data set"
   ]
  },
  {
   "cell_type": "code",
   "execution_count": 16,
   "metadata": {},
   "outputs": [
    {
     "data": {
      "text/plain": [
       "True"
      ]
     },
     "execution_count": 16,
     "metadata": {},
     "output_type": "execute_result"
    }
   ],
   "source": [
    "len(df_ratings['movieId'].unique()) == len(df_platforms['id'].unique())"
   ]
  },
  {
   "attachments": {},
   "cell_type": "markdown",
   "metadata": {},
   "source": [
    "##### 1.2.13 Replace the null values in the rating column with the string \"G\""
   ]
  },
  {
   "cell_type": "code",
   "execution_count": 17,
   "metadata": {},
   "outputs": [],
   "source": [
    "df_platforms['rating'] = df_platforms['rating'].fillna(\"G\")"
   ]
  },
  {
   "attachments": {},
   "cell_type": "markdown",
   "metadata": {},
   "source": [
    "##### 1.2.14 Remove empty spaces at the beggining of the string and then use the pandas to_datetime function to convert the original string into a proper date object format"
   ]
  },
  {
   "cell_type": "code",
   "execution_count": 18,
   "metadata": {},
   "outputs": [],
   "source": [
    "df_platforms['date_added'] = df_platforms['date_added'].str.strip()\n",
    "df_platforms['date_added'] = pd.to_datetime(df_platforms['date_added'], format='%B %d, %Y')"
   ]
  },
  {
   "attachments": {},
   "cell_type": "markdown",
   "metadata": {},
   "source": [
    "##### 1.2.15 Go through every cell, select only the string type cells and apply the lower function to those, leave the rest as they are."
   ]
  },
  {
   "cell_type": "code",
   "execution_count": 19,
   "metadata": {},
   "outputs": [],
   "source": [
    "df_platforms.iloc[:] = df_platforms.iloc[:].applymap(lambda x: x.lower() if isinstance(x, str) else x)"
   ]
  },
  {
   "attachments": {},
   "cell_type": "markdown",
   "metadata": {},
   "source": [
    "##### 1.2.16 Do the same for the ratings dataframe"
   ]
  },
  {
   "cell_type": "code",
   "execution_count": 20,
   "metadata": {},
   "outputs": [],
   "source": [
    "df_ratings.iloc[:] = df_ratings.iloc[:].applymap(lambda x: x.lower() if isinstance(x, str) else x)"
   ]
  },
  {
   "attachments": {},
   "cell_type": "markdown",
   "metadata": {},
   "source": [
    "##### 1.2.17 I split the duration column into two new columns using the split method. Then I transform all the missing values in the duration_int column to 0 in order to be able to transform it into an integer value."
   ]
  },
  {
   "cell_type": "code",
   "execution_count": 21,
   "metadata": {},
   "outputs": [],
   "source": [
    "df_platforms[['duration_int', 'duration_type']] = df_platforms['duration'].str.split(expand=True)\n",
    "df_platforms['duration_int'] = df_platforms['duration_int'].fillna(0).astype(int)"
   ]
  },
  {
   "attachments": {},
   "cell_type": "markdown",
   "metadata": {},
   "source": [
    "### 1.3 Load: create and deploy an API using the _fastAPI_ framework and Render"
   ]
  },
  {
   "attachments": {},
   "cell_type": "markdown",
   "metadata": {},
   "source": [
    "##### Create an instance of the FastAPI class"
   ]
  },
  {
   "cell_type": "code",
   "execution_count": 22,
   "metadata": {},
   "outputs": [],
   "source": [
    "app = FastAPI()"
   ]
  },
  {
   "attachments": {},
   "cell_type": "markdown",
   "metadata": {},
   "source": [
    "##### 1.3.1 First endpoint for getting the movie with the longest duration"
   ]
  },
  {
   "cell_type": "code",
   "execution_count": 24,
   "metadata": {},
   "outputs": [],
   "source": [
    "@app.get('/get_max_duration/{anio}/{plataforma}/{dtype}')\n",
    "\n",
    "# Define the function to handle the endpoint\n",
    "def get_max_duration(anio: int, plataforma: str, dtype: str):\n",
    "    \n",
    "    # Check if input values are valid and exist in DataFrame\n",
    "    assert anio in df_score['release_year'].unique(), f\"Invalid year: {anio}\"\n",
    "    assert plataforma.lower() in df_score['platform'].unique(), f\"Invalid platform: {plataforma}\"\n",
    "    assert dtype.lower() in df_score['duration_type'].unique(), f\"Invalid duration type: {dtype}\"\n",
    "    \n",
    "    # Filter the platform data for the requested platform name, year and duration type of the movie\n",
    "    filter_1 = df_score.loc[(df_score['release_year'] == anio) & \n",
    "                                (df_score['duration_type'] == dtype.lower()) & \n",
    "                                (df_score['platform'] == plataforma.lower()) & \n",
    "                                (df_score['type'] == 'movie')]\n",
    "    \n",
    "    # Check if filtered data is empty\n",
    "    if filter_1.empty:\n",
    "        return {\"error\": \"No movies found with the specified criteria.\"}\n",
    "    \n",
    "    # Sort the filtered data by duration\n",
    "    filter_1 = filter_1.sort_values('duration_int', ascending=False)\n",
    "    \n",
    "    # Find the movie(s) with the maximum duration\n",
    "    max_duration = filter_1['duration_int'].max()\n",
    "    \n",
    "    if len(filter_1.loc[filter_1['duration_int'] == max_duration]) > 1:\n",
    "        response_1 = (filter_1.loc[filter_1['duration_int'] == max_duration]).tolist()\n",
    "        return {\"peliculas\": response_1}\n",
    "    else:\n",
    "        return {\"pelicula\": filter_1.loc[filter_1['duration_int'].idxmax(), 'title']}"
   ]
  },
  {
   "attachments": {},
   "cell_type": "markdown",
   "metadata": {},
   "source": [
    "##### 1.3.2 Second endpoint that gets the amount of movies with a score higher than a specified amount. The inputs the platform name, the release year and the score to apply the corresponding filters."
   ]
  },
  {
   "attachments": {},
   "cell_type": "markdown",
   "metadata": {},
   "source": [
    "###### 1.3.2.1 Add the average score from the df_average_rating dataframe to df_platforms by combining both tables through a common column (id) but first I rename one of the columns."
   ]
  },
  {
   "cell_type": "code",
   "execution_count": 25,
   "metadata": {},
   "outputs": [],
   "source": [
    "df_average_score = df_average_score.rename(columns={'movieId':'id'})"
   ]
  },
  {
   "cell_type": "code",
   "execution_count": 26,
   "metadata": {},
   "outputs": [],
   "source": [
    "df_score = pd.merge(df_platforms, df_average_score, on='id')"
   ]
  },
  {
   "attachments": {},
   "cell_type": "markdown",
   "metadata": {},
   "source": [
    "###### 1.3.2.2 Rename some more columns for better readability"
   ]
  },
  {
   "cell_type": "code",
   "execution_count": 27,
   "metadata": {},
   "outputs": [],
   "source": [
    "df_score = df_score.rename(columns={'rating_x':'rating','rating_y':'score'})"
   ]
  },
  {
   "attachments": {},
   "cell_type": "markdown",
   "metadata": {},
   "source": [
    "###### 1.3.2.3 Defining the logic for the endpoint"
   ]
  },
  {
   "cell_type": "code",
   "execution_count": 28,
   "metadata": {},
   "outputs": [],
   "source": [
    "@app.get('/get_score_count/{plataforma}/{scored}/{anio}')\n",
    "\n",
    "def get_score_count(plataforma: str, scored: float, anio: int):\n",
    "    \n",
    "    # Check if input values are valid and exist in DataFrame\n",
    "    assert anio in df_score['release_year'].unique(), f\"Invalid year: {anio}\"\n",
    "    assert plataforma.lower() in df_score['platform'].unique(), f\"Invalid platform: {plataforma}\"\n",
    "    assert 0.5 <= scored <= 5.0, f\"Invalid score (must be between 0.5 and 5): {scored}\"\n",
    "    \n",
    "    # Filter the platform data for the requested platform, year and score of the movie\n",
    "    filter_2 = df_score.loc[(df_score['release_year'] == anio) & \n",
    "                            (df_score['platform'] == plataforma.lower()) & \n",
    "                            (df_score['score'] > scored) &\n",
    "                            (df_score['type'] == 'movie')]\n",
    "    \n",
    "    # Checks if filtered data is empty. If not it returns. the desired information.\n",
    "    if filter_2.empty:\n",
    "        return {\"error\": \"No movies found with the specified criteria.\"}\n",
    "    else:\n",
    "        return {'plataforma': plataforma,\n",
    "                'cantidad': filter_2.shape[0],\n",
    "                'anio': anio,\n",
    "                'score': scored}"
   ]
  },
  {
   "attachments": {},
   "cell_type": "markdown",
   "metadata": {},
   "source": [
    "##### 1.3.3 Third endpoint: shows the amount of movies in the specified platform."
   ]
  },
  {
   "cell_type": "code",
   "execution_count": 29,
   "metadata": {},
   "outputs": [],
   "source": [
    "@app.get('/get_count_platform/{plataforma}')\n",
    "def get_count_platform(plataforma: str):\n",
    "\n",
    "    # Check if input value is valid and exists in DataFrame\n",
    "    assert plataforma.lower()  in df_score['platform'].unique(), f\"Invalid platform: {plataforma}\"\n",
    "    \n",
    "    # Filters the platform data for the requested platform and content type (movies only)\n",
    "    filter_3 = df_score.loc[(df_score['platform'] == plataforma.lower()) &\n",
    "                            (df_score['type'] == 'movie')]\n",
    "\n",
    "    return {'plataforma': plataforma, 'peliculas': filter_3.shape[0]}"
   ]
  },
  {
   "attachments": {},
   "cell_type": "markdown",
   "metadata": {},
   "source": [
    "##### 1.3.4 Fourth endpoint: shows the actor that appears more frequently in the specified year and platform."
   ]
  },
  {
   "cell_type": "code",
   "execution_count": 30,
   "metadata": {},
   "outputs": [],
   "source": [
    "@app.get('/get_actor/{plataforma}/{anio}')\n",
    "def get_actor(plataforma: str, anio: int):\n",
    "\n",
    "    # Checks if input values are valid and exist in DataFrame\n",
    "    assert plataforma.lower()  in df_score['platform'].unique(), f\"Invalid platform: {plataforma}\"\n",
    "    assert anio in df_score['release_year'].unique(), f\"Invalid year: {anio}\"\n",
    "    \n",
    "    # Filter the data for the requested platform and year\n",
    "    filter_4 = df_score.loc[(df_score['release_year'] == anio) & \n",
    "                            (df_score['platform'] == plataforma.lower())]\n",
    "    \n",
    "    # Checks if filtered data is empty. If not, it returns the desired information.\n",
    "    if filter_4.empty:\n",
    "        return {\"error\": \"No result was found with the specified criteria.\"}\n",
    "    else:\n",
    "        # split the strings in the 'cast' column on comma separator, flatten the list of lists, remove spaces and count frequencies\n",
    "        response_4 = filter_4['cast'].str.split(',').explode().str.strip().value_counts()\n",
    "        return {\n",
    "                'plataforma': plataforma,\n",
    "                'anio': anio,\n",
    "                'actor': response_4.index[0],\n",
    "                'apariciones': response_4.iloc[0]\n",
    "                }"
   ]
  },
  {
   "attachments": {},
   "cell_type": "markdown",
   "metadata": {},
   "source": [
    "##### 1.3.5 Fifth endpoint: shows the amount of available contents in the platforms in the specified type of content, year and country."
   ]
  },
  {
   "cell_type": "code",
   "execution_count": 31,
   "metadata": {},
   "outputs": [],
   "source": [
    "@app.get('/prod_per_county/{tipo}/{pais}/{anio}')\n",
    "def prod_per_county(tipo: str, pais: str, anio: int):\n",
    "\n",
    "    # Checks if input values are valid and exist in DataFrame\n",
    "    assert tipo.lower()  in df_score['type'].unique(), f\"Invalid type of content: {tipo}\"\n",
    "    assert pais.lower()  in df_score['country'].unique(), f\"Invalid country: {pais}\"\n",
    "    assert anio in df_score['release_year'].unique(), f\"Invalid year: {anio}\"\n",
    "       \n",
    "    # Filter the data for the requested type of content, year and country\n",
    "    filter_5 = df_score.loc[(df_score['type'] == tipo.lower() ) & \n",
    "                            (df_score['country'] == pais.lower() ) & \n",
    "                            (df_score['release_year'] == anio)]       \n",
    "        \n",
    "    # Checks if filtered data is empty. If not, it returns the desired information.\n",
    "    if filter_5.empty:\n",
    "        return {\"error\": \"No result was found with the specified criteria.\"}\n",
    "    else:\n",
    "         return {'pais': pais, 'anio': anio, 'tipo': tipo, 'peliculas': filter_5.shape[0]}"
   ]
  },
  {
   "attachments": {},
   "cell_type": "markdown",
   "metadata": {},
   "source": [
    "##### 1.3.6 Sixth endpoint: shows the total amount of contents based on the audience rating."
   ]
  },
  {
   "cell_type": "code",
   "execution_count": 32,
   "metadata": {},
   "outputs": [],
   "source": [
    "@app.get('/get_contents/{rating}')\n",
    "def get_contents(rating: str):\n",
    "    \n",
    "    # Checks if the input value is valid and exists in DataFrame\n",
    "    assert rating.lower() in df_score['rating'].unique(), f\"Invalid rating: {rating}\"\n",
    "    \n",
    "    # Filters the data for the requested audience\n",
    "    filter_6 = df_score.loc[df_score['rating'] == rating.lower()]       \n",
    "        \n",
    "    # Checks if filtered data is empty. If not, it returns the desired information.\n",
    "    if filter_6.empty:\n",
    "        return {\"error\": \"No result was found with the specified criteria.\"}\n",
    "    else:\n",
    "        return {'rating': rating, 'contenido': filter_6.shape[0]}"
   ]
  },
  {
   "attachments": {},
   "cell_type": "markdown",
   "metadata": {},
   "source": [
    "##### 1.3.7 Deployment"
   ]
  },
  {
   "attachments": {},
   "cell_type": "markdown",
   "metadata": {},
   "source": [
    "##### 2.1 ML QUERY"
   ]
  },
  {
   "cell_type": "code",
   "execution_count": null,
   "metadata": {},
   "outputs": [],
   "source": [
    "# @app.get('/get_recomendation/{title}')\n",
    "# def get_recomendation(title,):\n",
    "    #    \n",
    "    # return {'recomendacion':respuesta}"
   ]
  }
 ],
 "metadata": {
  "kernelspec": {
   "display_name": "Python 3",
   "language": "python",
   "name": "python3"
  },
  "language_info": {
   "codemirror_mode": {
    "name": "ipython",
    "version": 3
   },
   "file_extension": ".py",
   "mimetype": "text/x-python",
   "name": "python",
   "nbconvert_exporter": "python",
   "pygments_lexer": "ipython3",
   "version": "3.11.3"
  },
  "orig_nbformat": 4,
  "vscode": {
   "interpreter": {
    "hash": "1f89eb7ee7f691a835530315e9cc5d675e01c25354f3226d466fc4ec3dae4d41"
   }
  }
 },
 "nbformat": 4,
 "nbformat_minor": 2
}
